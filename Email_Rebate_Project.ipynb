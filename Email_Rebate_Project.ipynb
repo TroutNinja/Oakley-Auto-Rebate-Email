{
 "cells": [
  {
   "cell_type": "markdown",
   "id": "847651f8-dbe2-4130-961e-0b8af9cbb5d4",
   "metadata": {},
   "source": [
    "# Rebate Email Project V3"
   ]
  },
  {
   "cell_type": "code",
   "execution_count": null,
   "id": "b35d3725-e7d6-4502-8c07-2f87d435f45d",
   "metadata": {},
   "outputs": [],
   "source": [
    "import pandas as pd\n",
    "import numpy as np\n",
    "from collections import defaultdict\n",
    "\n",
    "from datetime import date\n",
    "today = date.today()\n",
    "print(today)\n",
    "\n",
    "import matplotlib.pyplot as plt\n",
    "import seaborn as sns\n",
    "%matplotlib inline  "
   ]
  },
  {
   "cell_type": "code",
   "execution_count": null,
   "id": "2a8a8a4d-23a4-4160-854f-7042b743e27f",
   "metadata": {
    "tags": []
   },
   "outputs": [],
   "source": [
    "reps = ['AARON LOMBARD', 'MATT PALMER', 'SOMMER CLARK']"
   ]
  },
  {
   "cell_type": "markdown",
   "id": "e29bcab0-b9b3-4fa6-92e1-50dbcfc87838",
   "metadata": {},
   "source": [
    "#### Import Master Data"
   ]
  },
  {
   "cell_type": "code",
   "execution_count": null,
   "id": "d4510ba1-f187-4d1e-aabd-efe74239223d",
   "metadata": {},
   "outputs": [],
   "source": [
    "master = pd.read_excel(\"2022 LOYALTY Rebate Tracker 2.14.2022.xlsx\", sheet_name = \"Master List\")"
   ]
  },
  {
   "cell_type": "code",
   "execution_count": null,
   "id": "574088b7-36c7-451a-9168-ea3b287797d8",
   "metadata": {},
   "outputs": [],
   "source": [
    "master.head()"
   ]
  },
  {
   "cell_type": "markdown",
   "id": "28fae1fb-08b4-467e-bca2-d94867740b5c",
   "metadata": {},
   "source": [
    "#### Drop Rows without a Comm Program and filter by 'reps'"
   ]
  },
  {
   "cell_type": "code",
   "execution_count": null,
   "id": "b138d61a-50c7-4cc7-8e75-c401494ebd5c",
   "metadata": {},
   "outputs": [],
   "source": [
    "master = master[master['Comm Program'] != 'None']\n",
    "master = master[master['REP'].isin(reps)]"
   ]
  },
  {
   "cell_type": "markdown",
   "id": "0a5adfcc-3294-428a-9301-8b6d462ea224",
   "metadata": {},
   "source": [
    "#### Import CY Data"
   ]
  },
  {
   "cell_type": "code",
   "execution_count": null,
   "id": "1cd0b2dd-bbd9-4a5f-9734-97622e2060f3",
   "metadata": {},
   "outputs": [],
   "source": [
    "cy = pd.read_excel(\"2022 LOYALTY Rebate Tracker 2.14.2022.xlsx\", sheet_name = \"2022 Data\")\n",
    "cy.head(10)\n"
   ]
  }
 ],
 "metadata": {
  "kernelspec": {
   "display_name": "Python 3 (ipykernel)",
   "language": "python",
   "name": "python3"
  },
  "language_info": {
   "codemirror_mode": {
    "name": "ipython",
    "version": 3
   },
   "file_extension": ".py",
   "mimetype": "text/x-python",
   "name": "python",
   "nbconvert_exporter": "python",
   "pygments_lexer": "ipython3",
   "version": "3.9.7"
  }
 },
 "nbformat": 4,
 "nbformat_minor": 5
}
