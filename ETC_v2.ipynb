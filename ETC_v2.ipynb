{
 "cells": [
  {
   "cell_type": "markdown",
   "id": "d90686ac-0c0c-4b59-8132-102b78eb5054",
   "metadata": {
    "tags": []
   },
   "source": [
    "# Rebate Email Project v.2"
   ]
  },
  {
   "cell_type": "markdown",
   "id": "b8ac9b5e-e568-42d9-abe8-019a264f0c62",
   "metadata": {},
   "source": [
    "### Import Libraries"
   ]
  },
  {
   "cell_type": "code",
   "execution_count": null,
   "id": "f8dd9b60-47ea-434b-9cf6-d1e16d0a75a5",
   "metadata": {
    "tags": []
   },
   "outputs": [],
   "source": [
    "import pandas as pd\n",
    "import numpy as np\n",
    "from collections import defaultdict"
   ]
  },
  {
   "cell_type": "code",
   "execution_count": null,
   "id": "9a479f15-60b3-4699-84ce-718800ca3e6e",
   "metadata": {},
   "outputs": [],
   "source": [
    "import matplotlib.pyplot as plt\n",
    "import seaborn as sns\n",
    "%matplotlib inline  "
   ]
  },
  {
   "cell_type": "markdown",
   "id": "9d9543ff-c37e-46ce-9565-bd569625fa9e",
   "metadata": {},
   "source": [
    "### Define Rep\n",
    "- Full name, UPPER CASE"
   ]
  },
  {
   "cell_type": "code",
   "execution_count": null,
   "id": "a33002a6-c587-48b6-80db-8835b8a1638c",
   "metadata": {},
   "outputs": [],
   "source": [
    "rep = input()"
   ]
  },
  {
   "cell_type": "code",
   "execution_count": null,
   "id": "fd7388f1-d807-4a57-b984-b5c3fe748a61",
   "metadata": {},
   "outputs": [],
   "source": [
    "# test data:  211122_rebate_data.csv\n",
    "data = input()"
   ]
  },
  {
   "cell_type": "code",
   "execution_count": null,
   "id": "8a22e267-ed7d-4957-a33a-ad8c336ea2e4",
   "metadata": {},
   "outputs": [],
   "source": [
    "data = pd.read_csv(data, header = 0)\n",
    "data.info()"
   ]
  },
  {
   "cell_type": "code",
   "execution_count": null,
   "id": "f2346790-2bda-49ef-b952-1ca149730bd2",
   "metadata": {},
   "outputs": [],
   "source": [
    "data.head()"
   ]
  },
  {
   "cell_type": "code",
   "execution_count": null,
   "id": "2c851873-5363-4470-bde8-394b0737b32d",
   "metadata": {},
   "outputs": [],
   "source": [
    "# Drop the \"TOTAL\" line\n",
    "data.drop(0, axis = 0, inplace=True)\n",
    "data = data.reset_index(drop=True)\n",
    "data.head(0)"
   ]
  },
  {
   "cell_type": "code",
   "execution_count": null,
   "id": "2067fdd3-c5fb-49e8-b073-4692bfb71f9e",
   "metadata": {},
   "outputs": [],
   "source": [
    "def string_to_float(array):\n",
    "    array = (array.str.replace(\"+\", \"\", regex = False).\n",
    "                   str.replace(\"%\", \"\", regex = False).\n",
    "                   str.replace(\",\", \"\", regex = False).\n",
    "                   str.replace(\":\", \"\", regex = False).\n",
    "                   replace(r\"^\\s*$\", 0, regex = True).\n",
    "                   str.strip().\n",
    "                   astype(float)\n",
    "            )\n",
    "    return pd.Series(array)\n",
    "#  replace(r\"^\\s*$\", 0, regex = True).\n",
    "cols_to_clean = ['INVOICES & PROFORMA UNITS - CY', 'INVOICES & PROFORMA NET AMOUNT  - CY']\n",
    "\n",
    "data[cols_to_clean] = data[cols_to_clean].apply(string_to_float)"
   ]
  },
  {
   "cell_type": "code",
   "execution_count": null,
   "id": "60a0f35b-65bc-40d3-8418-26c872c60d9a",
   "metadata": {},
   "outputs": [],
   "source": [
    "data.head()"
   ]
  },
  {
   "cell_type": "code",
   "execution_count": null,
   "id": "2ba41351-42b7-47f1-9d60-4cf90a4d7290",
   "metadata": {},
   "outputs": [],
   "source": [
    "data = data.rename(columns = {'Main Account: Code': 'code', 'Main Account: Name': 'customer',\n",
    "                          'Main Account: City': 'city', 'Year': 'year', 'Quarter': 'quarter',\n",
    "                          'INVOICES & PROFORMA UNITS - CY': 'units', \n",
    "                          'INVOICES & PROFORMA NET AMOUNT  - CY': 'dollars'})\n",
    "data.head(50)"
   ]
  },
  {
   "cell_type": "code",
   "execution_count": null,
   "id": "b02b33b7-6c9e-4f7d-a22d-18e154a7c9be",
   "metadata": {},
   "outputs": [],
   "source": [
    "data['code'] = data['code'].astype(int)"
   ]
  },
  {
   "cell_type": "code",
   "execution_count": null,
   "id": "09af0dbd-1db6-4152-af7b-1c06b5dde238",
   "metadata": {},
   "outputs": [],
   "source": [
    "data = data[['customer', 'code', 'city', 'year', 'quarter', 'units', 'dollars']]"
   ]
  },
  {
   "cell_type": "code",
   "execution_count": null,
   "id": "c9b860b0-0c1f-4882-b819-31be706e062f",
   "metadata": {},
   "outputs": [],
   "source": [
    "pdf = data.pivot(index=['code', 'customer', 'city'], columns=['year', 'quarter'], values=['units', 'dollars'])\n",
    "\n",
    "pdf.head(4)"
   ]
  },
  {
   "cell_type": "code",
   "execution_count": null,
   "id": "dccc079f-451e-4bdc-af2e-262fb031cda9",
   "metadata": {},
   "outputs": [],
   "source": [
    "def collapse_columns(df):\n",
    "    df = df.copy()\n",
    "    if isinstance(df.columns, pd.MultiIndex):\n",
    "        df.columns = df.columns.to_series().apply(lambda x: \"_\".join(x))\n",
    "    return df\n",
    "\n",
    "df = collapse_columns(pdf)\n",
    "\n",
    "df = df.reset_index()\n",
    "df"
   ]
  },
  {
   "cell_type": "code",
   "execution_count": null,
   "id": "47381940-6486-4189-a589-d3acedc7d55a",
   "metadata": {},
   "outputs": [],
   "source": [
    "df.columns"
   ]
  },
  {
   "cell_type": "code",
   "execution_count": null,
   "id": "79eb8327-4857-43a9-8bfe-694a1b5403d0",
   "metadata": {},
   "outputs": [],
   "source": [
    "# Find All Rows with NA values\n",
    "null_rows = df[df.isna().any(axis = 1)].head()\n",
    "null_rows"
   ]
  },
  {
   "cell_type": "code",
   "execution_count": null,
   "id": "6ef08b0d-a610-4775-b321-fbc0289f8c74",
   "metadata": {},
   "outputs": [],
   "source": [
    "# Check to make sure their are no NAN's in 'Code', 'Customer', or 'City'\n",
    "assert df['code'].isna().any() == 0\n",
    "assert df['customer'].isna().any() == 0\n",
    "assert df['city'].isna().any() == 0\n",
    "\n",
    "# Replace NAN with 0\n",
    "df = df.fillna(0)\n",
    "assert df.isna().any().any() == 0\n",
    "df.isna().all()"
   ]
  },
  {
   "cell_type": "code",
   "execution_count": null,
   "id": "4ee0321b-03cf-4bb1-a580-6e65057f64db",
   "metadata": {},
   "outputs": [],
   "source": [
    "# Remove customers without values in '2021_q4_dollars'\n",
    "df = df[df['dollars_2021_Q4'] != 0]\n",
    "#df.info()"
   ]
  },
  {
   "cell_type": "markdown",
   "id": "af0a80d0-5a1f-4103-bde4-7814ac3a9774",
   "metadata": {},
   "source": [
    "### Import Account Contact Information"
   ]
  },
  {
   "cell_type": "code",
   "execution_count": null,
   "id": "cf28e2c7-911b-489c-bb30-17ca99c7f80f",
   "metadata": {},
   "outputs": [],
   "source": [
    "cols = [\"name\", \"code\", \"contact\", \"email\"]\n",
    "\n",
    "contact = pd.read_csv(f\"account_contact_info_{rep}.csv\", header = 0, usecols = [0,1,2,3], names = cols)\n",
    "print(\"length - \", len(contact))\n",
    "contact.head()"
   ]
  },
  {
   "cell_type": "markdown",
   "id": "84c0a9fa-70f3-4976-b6e0-e6720d1d1b7d",
   "metadata": {},
   "source": [
    "### Import Program Information"
   ]
  },
  {
   "cell_type": "code",
   "execution_count": null,
   "id": "acbcfd56-db8c-4ec7-b4c5-96d7073c16b8",
   "metadata": {},
   "outputs": [],
   "source": [
    "columns = [\"rep\", \"code\", \"customer\", \"vol\", \"vs\", \"el360\", \"level\", \"base_year\", \"static_board\", \"sb_doors\", \"tabs\"]\n",
    "\n",
    "program = pd.read_csv(\"quarterly_program.csv\", header = 0, names = columns)\n",
    "program['base_year'] = program['base_year'].astype(str).str[:4]\n",
    "program = program[program['rep'] == rep]\n",
    "program['code'] = program['code'].astype(int)\n",
    "\n",
    "print(\"length - \", len(program))\n",
    "program.head()"
   ]
  },
  {
   "cell_type": "code",
   "execution_count": null,
   "id": "3d664bfb-0dcf-4300-9483-0e5ea28a4633",
   "metadata": {},
   "outputs": [],
   "source": [
    "program_color = program[['code', 'tabs']]\n",
    "program_year = program[['code', 'base_year']]\n",
    "\n",
    "# convert program DF to a dictionary\n",
    "program_color_dict = program_color.set_index('code').T.to_dict('records')\n",
    "program_year_dict = program_year.set_index('code').T.to_dict('records')\n",
    "program_color_dict = program_color_dict[0]\n",
    "#print(program_color_dict)\n",
    "program_year_dict = program_year_dict[0]\n",
    "#print(program_year_dict)"
   ]
  },
  {
   "cell_type": "markdown",
   "id": "ec3825eb-933a-4d1d-8671-70d9b3aaac40",
   "metadata": {},
   "source": [
    "### CHANGE SETTINGS: Show all rows/cols of DF"
   ]
  },
  {
   "cell_type": "code",
   "execution_count": null,
   "id": "671de5a9-a532-4967-8fd4-719374dcc737",
   "metadata": {},
   "outputs": [],
   "source": [
    "# # View all rows of DF\n",
    "pd.set_option('display.max_rows', None)\n",
    "pd.set_option('display.max_columns', None)"
   ]
  },
  {
   "cell_type": "markdown",
   "id": "7bb285e3-0734-441c-aa5f-a443186d1689",
   "metadata": {},
   "source": [
    "### Merge Contact Information"
   ]
  },
  {
   "cell_type": "code",
   "execution_count": null,
   "id": "f5919715-07f2-4231-bb3b-d4f7535d51d0",
   "metadata": {},
   "outputs": [],
   "source": [
    "df = pd.merge(left = df, right = contact, how = 'left', left_on = 'code', right_on = 'code')\n",
    "\n",
    "df['color'] = df['code'].map(program_color_dict)\n",
    "df['base_year'] = df['code'].map(program_year_dict)\n",
    "\n",
    "df = df[['code', 'customer', 'city', 'contact', 'email', 'color', 'base_year',\n",
    "         'units_2019_Q1', 'units_2019_Q2', 'units_2019_Q3', 'units_2019_Q4', \n",
    "         'units_2020_Q1', 'units_2020_Q2', 'units_2020_Q3', 'units_2020_Q4', \n",
    "         'units_2021_Q1', 'units_2021_Q2', 'units_2021_Q3', 'units_2021_Q4', \n",
    "         'dollars_2019_Q1', 'dollars_2019_Q2', 'dollars_2019_Q3', 'dollars_2019_Q4', \n",
    "         'dollars_2020_Q1', 'dollars_2020_Q2', 'dollars_2020_Q3', 'dollars_2020_Q4',\n",
    "         'dollars_2021_Q1', 'dollars_2021_Q2', 'dollars_2021_Q3', 'dollars_2021_Q4'\n",
    "        ]]\n",
    "\n",
    "print(len(df))\n",
    "df.head()"
   ]
  },
  {
   "cell_type": "code",
   "execution_count": null,
   "id": "577c1a60-6545-4af7-935c-169965dc3e10",
   "metadata": {},
   "outputs": [],
   "source": [
    "# Drop any row where account's base year is 2021\n",
    "df = df.drop(df[df['base_year'] == '2021'].index)"
   ]
  },
  {
   "cell_type": "code",
   "execution_count": null,
   "id": "059a5748-e6b3-48e7-8eba-1bca71b36666",
   "metadata": {},
   "outputs": [],
   "source": [
    "# Drop any row where color or base year is NaN\n",
    "null_rows = df[df.isna().any(axis = 1)]\n",
    "null_rows\n",
    "null_rows"
   ]
  },
  {
   "cell_type": "markdown",
   "id": "d91f6880-1716-4c0b-ac6f-f74aa3ec5130",
   "metadata": {
    "tags": []
   },
   "source": [
    "## Print Reports"
   ]
  },
  {
   "cell_type": "code",
   "execution_count": null,
   "id": "3fcfe294-7d9c-44ed-a1ad-906f0df013e9",
   "metadata": {
    "tags": []
   },
   "outputs": [],
   "source": [
    "#YES for yes, NO for no\n",
    "print_reports = input()"
   ]
  },
  {
   "cell_type": "code",
   "execution_count": null,
   "id": "a76a40d1-2d29-4c5d-b368-7ec797fb13cf",
   "metadata": {},
   "outputs": [],
   "source": [
    "if print_reports == \"YES\":\n",
    "    null_rows.to_excel(f'/Users/matt/Desktop/{rep}_Dropped_Accounts.xlsx', engine='xlsxwriter')"
   ]
  },
  {
   "cell_type": "markdown",
   "id": "f5417cd8-8a9c-49de-a623-19b96538ee4a",
   "metadata": {},
   "source": [
    "### Drop Null Rows"
   ]
  },
  {
   "cell_type": "code",
   "execution_count": null,
   "id": "ba6985b5-a615-4dda-8498-9f09fd50e254",
   "metadata": {},
   "outputs": [],
   "source": [
    "df = df.drop(null_rows.index)\n",
    "null_rows = df[df.isna().any(axis = 1)]\n",
    "assert df.isna().any().any() == 0"
   ]
  },
  {
   "cell_type": "markdown",
   "id": "0151b04d-3779-490b-818e-485edcd9c75c",
   "metadata": {},
   "source": [
    "### Set Targets"
   ]
  },
  {
   "cell_type": "code",
   "execution_count": null,
   "id": "28db1e58-08fd-4e5f-9bc7-716dc4191c13",
   "metadata": {},
   "outputs": [],
   "source": [
    "aur = 80\n",
    "\n",
    "quarterly_target = 1.12\n",
    "quarterly_rebate_percentage = .06\n",
    "\n",
    "annual_target = 1.12\n",
    "annual_rebate_percentage = .08"
   ]
  },
  {
   "cell_type": "markdown",
   "id": "e723f400-23f2-4be5-ae5c-26dcbfbf4c41",
   "metadata": {},
   "source": [
    "### Quarterly Rebate Columns"
   ]
  },
  {
   "cell_type": "code",
   "execution_count": null,
   "id": "9f883a4f-e96d-40bd-8bc9-ced33a126366",
   "metadata": {},
   "outputs": [],
   "source": [
    "# Set Quarterly Target Columns\n",
    "df.loc[df['base_year'] == '2019', 'Q4_target'] = df['dollars_2019_Q4'] * quarterly_target\n",
    "df.loc[df['base_year'] == '2020', 'Q4_target'] = df['dollars_2020_Q4'] * quarterly_target\n",
    "\n",
    "# Set rules for minimum target\n",
    "df.loc[df['Q4_target'] < 1250, 'Q4_target'] = 1250\n",
    "\n",
    "# Set target delta and units needed\n",
    "df['Q4_target_delta'] = (df['Q4_target'] - df['dollars_2021_Q4']).astype(int)\n",
    "df['Q4_units_needed'] = round((df['Q4_target_delta'] / aur)) + 1\n",
    "\n",
    "# Calculate Quarterly Payout\n",
    "df.loc[df['dollars_2021_Q4'] > df['Q4_target'], 'est_Q4_rebate_value'] = (df['dollars_2021_Q4'] * quarterly_rebate_percentage).astype(int)\n",
    "df.loc[df['dollars_2021_Q4'] <= df['Q4_target'], 'est_Q4_rebate_value'] = (df['Q4_target'] * quarterly_rebate_percentage).astype(int)\n",
    "\n",
    "# If Quarterly units needed < 0, set to zero\n",
    "df.loc[df['Q4_units_needed'] < 0, 'Q4_units_needed'] = 0\n",
    "df.loc[df['Q4_target_delta'] < 0, 'Q4_target_delta'] = 0\n",
    "\n",
    "# Determine if quarterly rebate has been achieved\n",
    "df.loc[df['dollars_2021_Q4'] >= df['Q4_target'], 'Q4_rebate_achieved'] = 'YES'\n",
    "df.loc[df['dollars_2021_Q4'] < df['Q4_target'], 'Q4_rebate_achieved'] = 'NO'\n",
    "\n",
    "# Calculate Max Rebate Opportunity\n",
    "df.loc[df['color'] == 'Purple', 'max_rebate_value'] = df['est_Q4_rebate_value']\n",
    "\n",
    "# Set Q4 unit delta to integer column\n",
    "df['Q4_units_needed'] = df['Q4_units_needed'].astype(int)\n"
   ]
  },
  {
   "cell_type": "markdown",
   "id": "92060d14-c30c-4ce4-bf89-eeb47d20c8ca",
   "metadata": {},
   "source": [
    "### Annual Rebate Columns"
   ]
  },
  {
   "cell_type": "code",
   "execution_count": null,
   "id": "6198e275-3ab6-4d0f-ada7-f348ceaee356",
   "metadata": {},
   "outputs": [],
   "source": [
    "# Set Annual Target Columns\n",
    "df['cytd'] = (df['dollars_2021_Q1'] +\n",
    "              df['dollars_2021_Q2'] +\n",
    "              df['dollars_2021_Q3'] +\n",
    "              df['dollars_2021_Q4'])\n",
    "\n",
    "df.loc[df['base_year'] == '2019', 'annual_target'] = (df['dollars_2019_Q1'] +\n",
    "                                                      df['dollars_2019_Q2'] +\n",
    "                                                      df['dollars_2019_Q3'] +\n",
    "                                                      df['dollars_2019_Q4']\n",
    "                                                     ) * annual_target + 1\n",
    "\n",
    "\n",
    "df.loc[df['base_year'] == '2020', 'annual_target'] = (df['dollars_2020_Q1'] +\n",
    "                                                      df['dollars_2020_Q2'] +\n",
    "                                                      df['dollars_2020_Q3'] +\n",
    "                                                      df['dollars_2020_Q4']\n",
    "                                                     ) * annual_target + 1\n",
    "\n",
    "# Set rules for annual target\n",
    "df.loc[df['annual_target'] < 10000, 'annual_target'] = 10000\n",
    "df.loc[df['color'] == 'Purple', ['annual_target', 'annual_target_delta', 'annual_units_needed']] = 0\n",
    "\n",
    "# Calculate Deltas\n",
    "df['annual_target_delta'] = (df['annual_target'] - df['cytd']).astype(int)\n",
    "df['annual_units_needed'] = round((df['annual_target_delta'] / aur)) + 1\n",
    "\n",
    "# Calculate Annual Payout\n",
    "df.loc[((df['color'] == 'Green') & (df['cytd'] > df['annual_target'])), 'est_annual_rebate_value'] = (df['cytd'] * annual_rebate_percentage).astype(int)\n",
    "df.loc[((df['color'] == 'Green') & (df['cytd'] <= df['annual_target'])), 'est_annual_rebate_value'] = (df['annual_target'] * annual_rebate_percentage).astype(int)\n",
    "\n",
    "# If annual units needed < 0, set to zero\n",
    "df.loc[df['annual_units_needed'] <= 0, 'annual_units_needed'] = 0\n",
    "df.loc[((df['annual_target_delta'] < 80) & (df['annual_target_delta'] > 0)), 'annual_units_needed'] = 1\n",
    "df.loc[df['annual_target_delta'] < 0, 'annual_target_delta'] = 0\n",
    "\n",
    "\n",
    "# Calculate Max Rebate Opportunity\n",
    "df.loc[df['color'] == 'Green', 'max_rebate_value'] = df['est_Q4_rebate_value'] + df['est_annual_rebate_value']\n",
    "\n",
    "# Determine if annual rebate has been achieved\n",
    "df.loc[df['cytd'] >= df['annual_target'], 'annual_rebate_achieved'] = 'YES'\n",
    "df.loc[df['cytd'] < df['annual_target'], 'annual_rebate_achieved'] = 'NO'\n",
    "df.loc[df['color'] == 'Purple', 'annual_rebate_achieved'] = 'NOT ELIGIBLE'\n",
    "\n",
    "# Set annual unit delta column to integer\n",
    "df['annual_units_needed'] = df['annual_units_needed'].astype(int)\n",
    "\n",
    "#df"
   ]
  },
  {
   "cell_type": "code",
   "execution_count": null,
   "id": "d40c0b3d-59ea-4901-b207-1a1ea215e3ba",
   "metadata": {},
   "outputs": [],
   "source": [
    "df.columns"
   ]
  },
  {
   "cell_type": "markdown",
   "id": "60fc5903-10ed-4e89-a763-0e7ae3131e3e",
   "metadata": {},
   "source": [
    "### Run a test on any account number"
   ]
  },
  {
   "cell_type": "code",
   "execution_count": null,
   "id": "4a02c1b0-c51a-4d1d-8ad0-a34edfa71323",
   "metadata": {
    "tags": []
   },
   "outputs": [],
   "source": [
    "# test_account = input()\n",
    "# test_account = int(test_account)\n",
    "# test = df[df['code'] == test_account].copy()\n",
    "# test = test[['code', 'customer', 'city', 'contact', 'email', 'color', 'base_year',\n",
    "#              'dollars_2021_Q4', 'Q4_target', 'Q4_target_delta', 'Q4_units_needed', \n",
    "#              'est_Q4_rebate_value','Q4_rebate_achieved', 'cytd', 'annual_target',\n",
    "#              'annual_target_delta', 'annual_units_needed', 'est_annual_rebate_value',\n",
    "#             'annual_rebate_achieved', 'max_rebate_value']]\n",
    "\n",
    "# test"
   ]
  },
  {
   "cell_type": "markdown",
   "id": "e007bf18-9ffc-44b7-aa30-c4e1e9c1c1e0",
   "metadata": {},
   "source": [
    "### Split DataSet into \"Purple\" and \"Green\" "
   ]
  },
  {
   "cell_type": "code",
   "execution_count": null,
   "id": "536235de-cb4a-4f3f-ab51-a4191e0063be",
   "metadata": {},
   "outputs": [],
   "source": [
    "df.columns"
   ]
  },
  {
   "cell_type": "code",
   "execution_count": null,
   "id": "727ae725-0d77-4add-b777-65efa8a07c89",
   "metadata": {},
   "outputs": [],
   "source": [
    "green = df[df['color'] == 'Green'].copy()\n",
    "purple = df[df['color'] == 'Purple'].copy()\n",
    "\n",
    "green = green[['code', 'customer', 'city', 'contact', \n",
    "               'email', 'color', 'base_year', 'dollars_2021_Q4', 'Q4_target',\n",
    "               'Q4_target_delta', 'Q4_units_needed', 'est_Q4_rebate_value',\n",
    "               'Q4_rebate_achieved', 'cytd', 'annual_target', 'annual_target_delta',\n",
    "               'annual_units_needed', 'est_annual_rebate_value',\n",
    "               'annual_rebate_achieved', 'max_rebate_value']]\n",
    "\n",
    "purple = purple[['code', 'customer', 'city', 'contact', \n",
    "                 'email', 'color', 'base_year', 'dollars_2021_Q4', 'Q4_target',\n",
    "                 'Q4_target_delta', 'Q4_units_needed', 'est_Q4_rebate_value',\n",
    "                 'Q4_rebate_achieved', 'max_rebate_value']]"
   ]
  },
  {
   "cell_type": "markdown",
   "id": "e811bcfe-bb7b-42c4-9cf2-495d8e8d2886",
   "metadata": {},
   "source": [
    "### Percentage of Accounts Who have Hit Targets"
   ]
  },
  {
   "cell_type": "code",
   "execution_count": null,
   "id": "7f2c1745-63e4-4ab0-8389-35449b7a9a29",
   "metadata": {},
   "outputs": [],
   "source": [
    "perc_Q4_rebate_achieved = green['Q4_rebate_achieved'].value_counts(normalize = True) * 100\n",
    "print(\"Percentage of 'Green' Accounts who have reached the Q4 Target\")\n",
    "print(perc_Q4_rebate_achieved)\n",
    "print()\n",
    "print()\n",
    "perc_annual_achieved = green['annual_rebate_achieved'].value_counts(normalize = True) * 100\n",
    "print(\"Percentage of 'Green' Accounts who have reached the Annual Target\")\n",
    "print(perc_annual_achieved)"
   ]
  },
  {
   "cell_type": "code",
   "execution_count": null,
   "id": "eac4091f-ee97-4cc7-a151-a272e9c86b17",
   "metadata": {},
   "outputs": [],
   "source": [
    "perc_purple_Q4_rebate_achieved = purple['Q4_rebate_achieved'].value_counts(normalize = True) * 100\n",
    "print(\"Percentage of 'Purple' Accounts who have reached the Q4 Target\")\n",
    "print(perc_purple_Q4_rebate_achieved)"
   ]
  },
  {
   "cell_type": "markdown",
   "id": "1c44ca11-3deb-408a-b1b4-542f5d676cda",
   "metadata": {},
   "source": [
    "## Split into 4 \"GREEN\" Categories"
   ]
  },
  {
   "cell_type": "code",
   "execution_count": null,
   "id": "7dd33233-8ca2-41a6-8a98-042f997d32d4",
   "metadata": {},
   "outputs": [],
   "source": [
    "green_Q4_yes_annual_yes = green[(green['Q4_rebate_achieved'] == 'YES') & (green['annual_rebate_achieved'] == 'YES')]\n",
    "green_Q4_yes_annual_yes = green_Q4_yes_annual_yes.sort_values(\"max_rebate_value\", ascending = False)\n",
    "green_Q4_yes_annual_yes.reset_index(drop=True, inplace=True)\n",
    "\n",
    "if print_reports == \"YES\":\n",
    "    green_Q4_yes_annual_yes.to_excel(f'/Users/matt/Desktop/{rep}_green_Q4_yes_annual_yes.xlsx', engine='xlsxwriter')\n",
    "\n",
    "green_Q4_yes_annual_yes"
   ]
  },
  {
   "cell_type": "code",
   "execution_count": null,
   "id": "fe5d8ccb-d442-4f07-a979-a0ad04ec0f8f",
   "metadata": {},
   "outputs": [],
   "source": [
    "green_Q4_yes_annual_no = green[(green['Q4_rebate_achieved'] == 'YES') & (green['annual_rebate_achieved'] == 'NO')]\n",
    "green_Q4_yes_annual_no = green_Q4_yes_annual_no.sort_values('annual_units_needed')\n",
    "green_Q4_yes_annual_no.reset_index(drop=True, inplace=True)\n",
    "\n",
    "if print_reports == \"YES\":\n",
    "    green_Q4_yes_annual_no.to_excel(f'/Users/matt/Desktop/{rep}_green_Q4_yes_annual_no.xlsx', engine='xlsxwriter')\n",
    "\n",
    "green_Q4_yes_annual_no"
   ]
  },
  {
   "cell_type": "code",
   "execution_count": null,
   "id": "c6073eaa-697a-470d-9dc8-689bc757260d",
   "metadata": {},
   "outputs": [],
   "source": [
    "green_Q4_no_annual_yes = green[(green['Q4_rebate_achieved'] == 'NO') & (green['annual_rebate_achieved'] == 'YES')]\n",
    "green_Q4_no_annual_yes = green_Q4_no_annual_yes.sort_values(\"Q4_units_needed\")\n",
    "green_Q4_no_annual_yes.reset_index(drop=True, inplace=True)\n",
    "\n",
    "if print_reports == \"YES\":\n",
    "    green_Q4_no_annual_yes.to_excel(f'/Users/matt/Desktop/{rep}_green_Q4_no_annual_yes.xlsx', engine='xlsxwriter')\n",
    "\n",
    "green_Q4_no_annual_yes"
   ]
  },
  {
   "cell_type": "code",
   "execution_count": null,
   "id": "5f059809-b9f1-4e75-a4a4-b4a33bf88c00",
   "metadata": {},
   "outputs": [],
   "source": [
    "green_Q4_no_annual_no = green[(green['Q4_rebate_achieved'] == 'NO') & (green['annual_rebate_achieved'] == 'NO')]\n",
    "green_Q4_no_annual_no = green_Q4_no_annual_no.sort_values(\"annual_units_needed\")\n",
    "green_Q4_no_annual_no.reset_index(drop=True, inplace=True)\n",
    "\n",
    "if print_reports == \"YES\":\n",
    "    green_Q4_no_annual_no.to_excel(f'/Users/matt/Desktop/{rep}_green_Q4_no_annual_no.xlsx', engine='xlsxwriter')\n",
    "\n",
    "green_Q4_no_annual_no"
   ]
  },
  {
   "cell_type": "markdown",
   "id": "7c956dfe-86f1-49e2-b93a-9ebb1b5de963",
   "metadata": {},
   "source": [
    "### Split into 2 Purple Categories"
   ]
  },
  {
   "cell_type": "code",
   "execution_count": null,
   "id": "75735007-3e31-49a6-83c9-52c68bc36c0d",
   "metadata": {},
   "outputs": [],
   "source": [
    "purple_Q4_yes = purple[purple['Q4_rebate_achieved'] == 'YES']\n",
    "purple_Q4_yes = purple_Q4_yes.sort_values(\"est_Q4_rebate_value\", ascending = False)\n",
    "purple_Q4_yes.reset_index(drop=True, inplace=True)\n",
    "\n",
    "if print_reports == \"YES\":\n",
    "    purple_Q4_yes.to_excel(f'/Users/matt/Desktop/{rep}_purple_Q4_yes.xlsx', engine='xlsxwriter')\n",
    "\n",
    "purple_Q4_yes"
   ]
  },
  {
   "cell_type": "code",
   "execution_count": null,
   "id": "d876d49d-84ab-4977-b437-b6c4ba9a7e29",
   "metadata": {},
   "outputs": [],
   "source": [
    "purple_Q4_no = purple[purple['Q4_rebate_achieved'] == 'NO']\n",
    "purple_Q4_no = purple_Q4_no.sort_values(\"Q4_units_needed\")\n",
    "purple_Q4_no.reset_index(drop=True, inplace=True)\n",
    "\n",
    "if print_reports == \"YES\":\n",
    "    purple_Q4_no.to_excel(f'/Users/matt/Desktop/{rep}_purple_Q4_no.xlsx', engine='xlsxwriter')\n",
    "\n",
    "purple_Q4_no"
   ]
  },
  {
   "cell_type": "code",
   "execution_count": null,
   "id": "d699d144-7d81-487f-9ef1-9fe97da9712f",
   "metadata": {
    "tags": []
   },
   "outputs": [],
   "source": [
    "df.columns"
   ]
  },
  {
   "cell_type": "markdown",
   "id": "36afb3b6-a8ad-4aa4-a8b4-7f533364a2af",
   "metadata": {
    "jp-MarkdownHeadingCollapsed": true,
    "tags": []
   },
   "source": [
    "## Perform System Check\n",
    "\n",
    "##### * Check You have the correct rep and contact information\n",
    "##### * Check \"Subject Line\" in all communications\n",
    "##### * Check \"Message\" for all communications\n",
    "##### * Check data is correctly formatted"
   ]
  },
  {
   "cell_type": "code",
   "execution_count": null,
   "id": "2723f556-ac28-4562-beb5-01f4d0f987c3",
   "metadata": {},
   "outputs": [],
   "source": [
    "system_check = input()\n",
    "system_check = str(system_check)"
   ]
  },
  {
   "cell_type": "code",
   "execution_count": null,
   "id": "f82d74f6-0f85-4966-b3ef-28af1a6e4191",
   "metadata": {},
   "outputs": [],
   "source": [
    "# Type YES to proceed, or NO to STOP\n",
    "\n",
    "if system_check == 'NO':\n",
    "    raise SystemExit(\"Don't Continue\")\n",
    "print('Continue')"
   ]
  },
  {
   "cell_type": "code",
   "execution_count": null,
   "id": "53fc2246-1757-4e39-9129-de28d96a3351",
   "metadata": {},
   "outputs": [],
   "source": [
    "import smtplib\n",
    "import config\n",
    "import time\n",
    "\n",
    "from datetime import date\n",
    "\n",
    "today = date.today()\n",
    "print(today)"
   ]
  },
  {
   "cell_type": "markdown",
   "id": "7148b9ec-3693-400d-a624-6308460b8bb3",
   "metadata": {},
   "source": [
    "## Connect to Gmail Server"
   ]
  },
  {
   "cell_type": "code",
   "execution_count": null,
   "id": "39251d83-8f4c-466f-8535-e78fefd710b4",
   "metadata": {},
   "outputs": [],
   "source": [
    "# def send_email(subject, msg, customer_email):\n",
    "#     try:\n",
    "#         server = smtplib.SMTP('smtp.gmail.com:587')\n",
    "#         server.ehlo()\n",
    "#         server.starttls()\n",
    "#         server.login(config.EMAIL_ADDRESS, config.PASSWORD)\n",
    "#         message = 'Subject: {}\\n\\n{}'.format(subject, msg)\n",
    "#         server.sendmail(config.EMAIL_ADDRESS, customer_email, message)\n",
    "#         server.quit()\n",
    "#         print(f'Success. Email Sent to {customer_email}')\n",
    "#         time.sleep(1)\n",
    "#     except:\n",
    "#         print(f'Email Failed to Send to {customer_email}')"
   ]
  },
  {
   "cell_type": "code",
   "execution_count": null,
   "id": "00d04f6f-7f5c-4ca2-a1d6-ba24ddab2cf6",
   "metadata": {},
   "outputs": [],
   "source": []
  }
 ],
 "metadata": {
  "kernelspec": {
   "display_name": "Python 3 (ipykernel)",
   "language": "python",
   "name": "python3"
  },
  "language_info": {
   "codemirror_mode": {
    "name": "ipython",
    "version": 3
   },
   "file_extension": ".py",
   "mimetype": "text/x-python",
   "name": "python",
   "nbconvert_exporter": "python",
   "pygments_lexer": "ipython3",
   "version": "3.9.7"
  }
 },
 "nbformat": 4,
 "nbformat_minor": 5
}
